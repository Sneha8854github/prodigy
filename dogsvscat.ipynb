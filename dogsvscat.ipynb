{
 "cells": [
  {
   "cell_type": "code",
   "execution_count": 1,
   "id": "bdeffd7c",
   "metadata": {},
   "outputs": [
    {
     "name": "stdout",
     "output_type": "stream",
     "text": [
      "Requirement already satisfied: kaggle in ./anaconda3/lib/python3.11/site-packages (1.6.14)\n",
      "Requirement already satisfied: six>=1.10 in ./anaconda3/lib/python3.11/site-packages (from kaggle) (1.16.0)\n",
      "Requirement already satisfied: certifi>=2023.7.22 in ./anaconda3/lib/python3.11/site-packages (from kaggle) (2023.11.17)\n",
      "Requirement already satisfied: python-dateutil in ./anaconda3/lib/python3.11/site-packages (from kaggle) (2.8.2)\n",
      "Requirement already satisfied: requests in ./anaconda3/lib/python3.11/site-packages (from kaggle) (2.31.0)\n",
      "Requirement already satisfied: tqdm in ./anaconda3/lib/python3.11/site-packages (from kaggle) (4.65.0)\n",
      "Requirement already satisfied: python-slugify in ./anaconda3/lib/python3.11/site-packages (from kaggle) (5.0.2)\n",
      "Requirement already satisfied: urllib3 in ./anaconda3/lib/python3.11/site-packages (from kaggle) (1.26.16)\n",
      "Requirement already satisfied: bleach in ./anaconda3/lib/python3.11/site-packages (from kaggle) (4.1.0)\n",
      "Requirement already satisfied: packaging in ./anaconda3/lib/python3.11/site-packages (from bleach->kaggle) (23.1)\n",
      "Requirement already satisfied: webencodings in ./anaconda3/lib/python3.11/site-packages (from bleach->kaggle) (0.5.1)\n",
      "Requirement already satisfied: text-unidecode>=1.3 in ./anaconda3/lib/python3.11/site-packages (from python-slugify->kaggle) (1.3)\n",
      "Requirement already satisfied: charset-normalizer<4,>=2 in ./anaconda3/lib/python3.11/site-packages (from requests->kaggle) (2.0.4)\n",
      "Requirement already satisfied: idna<4,>=2.5 in ./anaconda3/lib/python3.11/site-packages (from requests->kaggle) (3.4)\n",
      "Note: you may need to restart the kernel to use updated packages.\n"
     ]
    }
   ],
   "source": [
    "pip install kaggle"
   ]
  },
  {
   "cell_type": "code",
   "execution_count": 4,
   "id": "74bd73ed",
   "metadata": {},
   "outputs": [],
   "source": [
    "import os\n",
    "import numpy as np\n",
    "import cv2\n",
    "from sklearn.model_selection import train_test_split\n",
    "from sklearn.svm import SVC\n",
    "from sklearn.metrics import accuracy_score\n",
    "import matplotlib.pyplot as plt\n"
   ]
  },
  {
   "cell_type": "code",
   "execution_count": 35,
   "id": "4bd61f99",
   "metadata": {},
   "outputs": [],
   "source": [
    "import os\n",
    "\n",
    "# Load cat images\n",
    "cat_images, cat_labels = load_images_from_folder(os.path.expanduser('~/Downloads/train/cat'), 0)\n",
    "\n",
    "# Load dog images\n",
    "dog_images, dog_labels = load_images_from_folder(os.path.expanduser('~/Downloads/train/dog'), 1)\n"
   ]
  },
  {
   "cell_type": "code",
   "execution_count": 3,
   "id": "5947c5c9",
   "metadata": {},
   "outputs": [
    {
     "name": "stdout",
     "output_type": "stream",
     "text": [
      "Collecting opencv-python\n",
      "  Obtaining dependency information for opencv-python from https://files.pythonhosted.org/packages/35/69/b657974ddcbba54d59d7d62b01e60a8b815e35f415b996e4d355be0ac7b4/opencv_python-4.9.0.80-cp37-abi3-macosx_10_16_x86_64.whl.metadata\n",
      "  Downloading opencv_python-4.9.0.80-cp37-abi3-macosx_10_16_x86_64.whl.metadata (20 kB)\n",
      "Requirement already satisfied: numpy>=1.21.2 in ./anaconda3/lib/python3.11/site-packages (from opencv-python) (1.24.3)\n",
      "Downloading opencv_python-4.9.0.80-cp37-abi3-macosx_10_16_x86_64.whl (55.7 MB)\n",
      "\u001b[2K   \u001b[90m━━━━━━━━━━━━━━━━━━━━━━━━━━━━━━━━━━━━━━━━\u001b[0m \u001b[32m55.7/55.7 MB\u001b[0m \u001b[31m3.7 MB/s\u001b[0m eta \u001b[36m0:00:00\u001b[0m00:01\u001b[0m00:01\u001b[0m\n",
      "\u001b[?25hInstalling collected packages: opencv-python\n",
      "Successfully installed opencv-python-4.9.0.80\n",
      "Note: you may need to restart the kernel to use updated packages.\n"
     ]
    }
   ],
   "source": [
    "pip install opencv-python"
   ]
  },
  {
   "cell_type": "code",
   "execution_count": 56,
   "id": "147cd8ba",
   "metadata": {},
   "outputs": [
    {
     "name": "stdout",
     "output_type": "stream",
     "text": [
      "Current Working Directory: /Users/snehasambhajisalunkhe\n",
      "Total images: 0\n",
      "Total labels: 0\n",
      "No images to train on.\n"
     ]
    }
   ],
   "source": [
    "import os\n",
    "import numpy as np\n",
    "import cv2\n",
    "from sklearn.model_selection import train_test_split\n",
    "from sklearn.svm import SVC\n",
    "from sklearn.metrics import accuracy_score\n",
    "\n",
    "# Print the current working directory\n",
    "print(\"Current Working Directory:\", os.getcwd())\n",
    "\n",
    "def load_images_from_folder(folder, label, img_size=(64, 64)):\n",
    "    images = []\n",
    "    labels = []\n",
    "    for filename in os.listdir(folder):\n",
    "        img = cv2.imread(os.path.join(folder, filename), cv2.IMREAD_GRAYSCALE)\n",
    "        if img is not None:\n",
    "            img = cv2.resize(img, img_size)\n",
    "            images.append(img.flatten())\n",
    "            labels.append(label)\n",
    "    return images, labels\n",
    "\n",
    "cat_images, cat_labels = load_images_from_folder(os.path.expanduser('~/Downloads/train/cat'), 0)\n",
    "\n",
    "# Load dog images\n",
    "dog_images, dog_labels = load_images_from_folder(os.path.expanduser('~/Downloads/train/dog'), 1)\n",
    "\n",
    "# Combine the data\n",
    "images = cat_images + dog_images\n",
    "labels = cat_labels + dog_labels\n",
    "\n",
    "# Convert to numpy arrays\n",
    "images = np.array(images)\n",
    "labels = np.array(labels)\n",
    "\n",
    "\n",
    "# Debugging prints to check the sizes of images and labels arrays\n",
    "print(f\"Total images: {len(images)}\")\n",
    "print(f\"Total labels: {len(labels)}\")\n",
    "\n",
    "if len(images) > 0 and len(labels) > 0:\n",
    "    # Split the data \n",
    "    X_train, X_test, y_train, y_test = train_test_split(images, labels, test_size=0.2, random_state=42)\n",
    "\n",
    "    # Train the SVM model\n",
    "    svm = SVC(kernel='linear')\n",
    "    svm.fit(X_train, y_train)\n",
    "\n",
    "    # Make predictions\n",
    "    y_pred = svm.predict(X_test)\n",
    "\n",
    "    # Evaluate the model\n",
    "    accuracy = accuracy_score(y_test, y_pred)\n",
    "    print(f'Accuracy: {accuracy:.2f}')\n",
    "else:\n",
    "    print(\"No images to train on.\")\n",
    "\n"
   ]
  },
  {
   "cell_type": "code",
   "execution_count": 9,
   "id": "a4fc1117",
   "metadata": {},
   "outputs": [
    {
     "name": "stdout",
     "output_type": "stream",
     "text": [
      "Current Working Directory: /Users/snehasambhajisalunkhe\n",
      "Loading images from: /Users/snehasambhajisalunkhe/Downloads/train/cat\n",
      "Loaded 0 images from /Users/snehasambhajisalunkhe/Downloads/train/cat\n",
      "Loading images from: /Users/snehasambhajisalunkhe/Downloads/train/dog\n",
      "Loaded 0 images from /Users/snehasambhajisalunkhe/Downloads/train/dog\n",
      "Total images: 0\n",
      "Total labels: 0\n",
      "No images to train on.\n"
     ]
    }
   ],
   "source": [
    "import os\n",
    "import numpy as np\n",
    "import cv2\n",
    "from sklearn.model_selection import train_test_split\n",
    "from sklearn.svm import SVC\n",
    "from sklearn.metrics import accuracy_score\n",
    "\n",
    "# Print the current working directory\n",
    "print(\"Current Working Directory:\", os.getcwd())\n",
    "\n",
    "def load_images_from_folder(folder, label, img_size=(64, 64)):\n",
    "    images = []\n",
    "    labels = []\n",
    "    folder = os.path.expanduser(folder)  # Expand the ~ to the full path\n",
    "    print(f\"Loading images from: {folder}\")\n",
    "    \n",
    "    if not os.path.exists(folder):\n",
    "        print(f\"Directory does not exist: {folder}\")\n",
    "        return images, labels\n",
    "\n",
    "    for filename in os.listdir(folder):\n",
    "        file_path = os.path.join(folder, filename)\n",
    "        img = cv2.imread(file_path, cv2.IMREAD_GRAYSCALE)\n",
    "        if img is not None:\n",
    "            img = cv2.resize(img, img_size)\n",
    "            images.append(img.flatten())\n",
    "            labels.append(label)\n",
    "        else:\n",
    "            print(f\"Failed to read image: {file_path}\")\n",
    "\n",
    "    print(f\"Loaded {len(images)} images from {folder}\")\n",
    "    return images, labels\n",
    "\n",
    "# Load cat images\n",
    "cat_images, cat_labels = load_images_from_folder('~/Downloads/train/cat', 0)\n",
    "\n",
    "# Load dog images\n",
    "dog_images, dog_labels = load_images_from_folder('~/Downloads/train/dog', 1)\n",
    "\n",
    "# Combine the data\n",
    "images = cat_images + dog_images\n",
    "labels = cat_labels + dog_labels\n",
    "\n",
    "# Convert to numpy arrays\n",
    "images = np.array(images)\n",
    "labels = np.array(labels)\n",
    "\n",
    "# Debugging prints to check the sizes of images and labels arrays\n",
    "print(f\"Total images: {len(images)}\")\n",
    "print(f\"Total labels: {len(labels)}\")\n",
    "\n",
    "# Split the data\n",
    "if len(images) > 0 and len(labels) > 0:\n",
    "    X_train, X_test, y_train, y_test = train_test_split(images, labels, test_size=0.2, random_state=42)\n",
    "\n",
    "    # Train the SVM model\n",
    "    svm = SVC(kernel='linear')\n",
    "    svm.fit(X_train, y_train)\n",
    "\n",
    "    # Make predictions\n",
    "    y_pred = svm.predict(X_test)\n",
    "\n",
    "    # Evaluate the model\n",
    "    accuracy = accuracy_score(y_test, y_pred)\n",
    "    print(f'Accuracy: {accuracy:.2f}')\n",
    "else:\n",
    "    print(\"No images to train on.\")\n"
   ]
  },
  {
   "cell_type": "code",
   "execution_count": null,
   "id": "f010e24d",
   "metadata": {},
   "outputs": [],
   "source": []
  }
 ],
 "metadata": {
  "kernelspec": {
   "display_name": "Python 3 (ipykernel)",
   "language": "python",
   "name": "python3"
  },
  "language_info": {
   "codemirror_mode": {
    "name": "ipython",
    "version": 3
   },
   "file_extension": ".py",
   "mimetype": "text/x-python",
   "name": "python",
   "nbconvert_exporter": "python",
   "pygments_lexer": "ipython3",
   "version": "3.11.5"
  }
 },
 "nbformat": 4,
 "nbformat_minor": 5
}
