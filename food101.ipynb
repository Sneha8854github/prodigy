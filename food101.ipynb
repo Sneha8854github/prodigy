{
 "cells": [
  {
   "cell_type": "code",
   "execution_count": null,
   "id": "7c5f04eb",
   "metadata": {
    "scrolled": true
   },
   "outputs": [
    {
     "name": "stdout",
     "output_type": "stream",
     "text": [
      "Downloading dataset...\n",
      "Dataset URL: https://www.kaggle.com/datasets/dansbecker/food-101\n",
      "License(s): other\n",
      "Downloading food-101.zip to ./data\n"
     ]
    },
    {
     "name": "stderr",
     "output_type": "stream",
     "text": [
      "  1%|          | 99.0M/9.38G [13:15<5:38:12, 491kB/s] "
     ]
    }
   ],
   "source": [
    "import os\n",
    "import subprocess\n",
    "import zipfile\n",
    "import glob\n",
    "\n",
    "# Define the paths\n",
    "base_dir = './data'\n",
    "dataset_dir = os.path.join(base_dir, 'food-101')\n",
    "zip_path = os.path.join(base_dir, 'food-101.zip')\n",
    "\n",
    "# Create the base directory if it doesn't exist\n",
    "os.makedirs(base_dir, exist_ok=True)\n",
    "\n",
    "# Download the dataset using Kaggle API\n",
    "if not os.path.exists(zip_path):\n",
    "    print(\"Downloading dataset...\")\n",
    "    subprocess.run(['kaggle', 'datasets', 'download', '-d', 'dansbecker/food-101', '-p', base_dir])\n",
    "    print(\"Download complete.\")\n",
    "\n",
    "# Find the correct ZIP file (Kaggle might save it with a different name)\n",
    "zip_files = glob.glob(os.path.join(base_dir, '*.zip'))\n",
    "if not zip_files:\n",
    "    raise FileNotFoundError(\"No ZIP file found after download.\")\n",
    "zip_path = zip_files[0]\n",
    "\n",
    "# Extract the dataset if it hasn't been extracted already\n",
    "if not os.path.exists(dataset_dir):\n",
    "    print(\"Extracting dataset...\")\n",
    "    with zipfile.ZipFile(zip_path, 'r') as zip_ref:\n",
    "        zip_ref.extractall(base_dir)\n",
    "    print(\"Extraction complete.\")\n"
   ]
  },
  {
   "cell_type": "markdown",
   "id": "5d771309",
   "metadata": {},
   "source": [
    "Step 2: Preprocess the Data\n",
    "Now, we need to preprocess the images for training. We will use the ImageDataGenerator from keras for this purpose."
   ]
  },
  {
   "cell_type": "code",
   "execution_count": 1,
   "id": "3b640089",
   "metadata": {},
   "outputs": [
    {
     "name": "stderr",
     "output_type": "stream",
     "text": [
      "2024-06-12 18:57:14.652371: I tensorflow/core/platform/cpu_feature_guard.cc:210] This TensorFlow binary is optimized to use available CPU instructions in performance-critical operations.\n",
      "To enable the following instructions: AVX2 AVX512F AVX512_VNNI FMA, in other operations, rebuild TensorFlow with the appropriate compiler flags.\n"
     ]
    },
    {
     "ename": "NameError",
     "evalue": "name 'os' is not defined",
     "output_type": "error",
     "traceback": [
      "\u001b[0;31m---------------------------------------------------------------------------\u001b[0m",
      "\u001b[0;31mNameError\u001b[0m                                 Traceback (most recent call last)",
      "Cell \u001b[0;32mIn[1], line 5\u001b[0m\n\u001b[1;32m      2\u001b[0m \u001b[38;5;28;01mfrom\u001b[39;00m \u001b[38;5;21;01mtensorflow\u001b[39;00m\u001b[38;5;21;01m.\u001b[39;00m\u001b[38;5;21;01mkeras\u001b[39;00m\u001b[38;5;21;01m.\u001b[39;00m\u001b[38;5;21;01mpreprocessing\u001b[39;00m\u001b[38;5;21;01m.\u001b[39;00m\u001b[38;5;21;01mimage\u001b[39;00m \u001b[38;5;28;01mimport\u001b[39;00m ImageDataGenerator\n\u001b[1;32m      4\u001b[0m \u001b[38;5;66;03m# Set the paths\u001b[39;00m\n\u001b[0;32m----> 5\u001b[0m dataset_path \u001b[38;5;241m=\u001b[39m os\u001b[38;5;241m.\u001b[39mpath\u001b[38;5;241m.\u001b[39mjoin(dataset_dir, \u001b[38;5;124m'\u001b[39m\u001b[38;5;124mimages\u001b[39m\u001b[38;5;124m'\u001b[39m)\n\u001b[1;32m      7\u001b[0m \u001b[38;5;66;03m# Initialize ImageDataGenerator for preprocessing\u001b[39;00m\n\u001b[1;32m      8\u001b[0m datagen \u001b[38;5;241m=\u001b[39m ImageDataGenerator(\n\u001b[1;32m      9\u001b[0m     rescale\u001b[38;5;241m=\u001b[39m\u001b[38;5;241m1.\u001b[39m\u001b[38;5;241m/\u001b[39m\u001b[38;5;241m255\u001b[39m,\n\u001b[1;32m     10\u001b[0m     validation_split\u001b[38;5;241m=\u001b[39m\u001b[38;5;241m0.2\u001b[39m\n\u001b[1;32m     11\u001b[0m )\n",
      "\u001b[0;31mNameError\u001b[0m: name 'os' is not defined"
     ]
    }
   ],
   "source": [
    "import tensorflow as tf\n",
    "from tensorflow.keras.preprocessing.image import ImageDataGenerator\n",
    "\n",
    "# Set the paths\n",
    "dataset_path = os.path.join(dataset_dir, 'images')\n",
    "\n",
    "# Initialize ImageDataGenerator for preprocessing\n",
    "datagen = ImageDataGenerator(\n",
    "    rescale=1./255,\n",
    "    validation_split=0.2\n",
    ")\n",
    "\n",
    "# Prepare the training and validation data\n",
    "train_generator = datagen.flow_from_directory(\n",
    "    dataset_path,\n",
    "    target_size=(224, 224),\n",
    "    batch_size=32,\n",
    "    class_mode='categorical',\n",
    "    subset='training'\n",
    ")\n",
    "\n",
    "validation_generator = datagen.flow_from_directory(\n",
    "    dataset_path,\n",
    "    target_size=(224, 224),\n",
    "    batch_size=32,\n",
    "    class_mode='categorical',\n",
    "    subset='validation'\n",
    ")"
   ]
  },
  {
   "cell_type": "markdown",
   "id": "42addec6",
   "metadata": {},
   "source": [
    "Step 3: Build the Model\n",
    "We'll build a convolutional neural network (CNN) using tensorflow and keras."
   ]
  },
  {
   "cell_type": "code",
   "execution_count": null,
   "id": "bc4ddb44",
   "metadata": {},
   "outputs": [],
   "source": [
    "from tensorflow.keras.models import Sequential\n",
    "from tensorflow.keras.layers import Conv2D, MaxPooling2D, Flatten, Dense, Dropout\n",
    "\n",
    "# Define the model\n",
    "model = Sequential([\n",
    "    Conv2D(32, (3, 3), activation='relu', input_shape=(224, 224, 3)),\n",
    "    MaxPooling2D((2, 2)),\n",
    "    Conv2D(64, (3, 3), activation='relu'),\n",
    "    MaxPooling2D((2, 2)),\n",
    "    Conv2D(128, (3, 3), activation='relu'),\n",
    "    MaxPooling2D((2, 2)),\n",
    "    Flatten(),\n",
    "    Dense(512, activation='relu'),\n",
    "    Dropout(0.5),\n",
    "    Dense(101, activation='softmax')  # 101 classes for 101 types of food\n",
    "])\n",
    "\n",
    "# Compile the model\n",
    "model.compile(optimizer='adam',\n",
    "              loss='categorical_crossentropy',\n",
    "              metrics=['accuracy'])\n"
   ]
  },
  {
   "cell_type": "markdown",
   "id": "07581e3b",
   "metadata": {},
   "source": [
    "Step 4: Train the Model\n",
    "Train the model using the training data and validate it using the validation dat"
   ]
  },
  {
   "cell_type": "code",
   "execution_count": null,
   "id": "a0d50e86",
   "metadata": {},
   "outputs": [],
   "source": [
    "# Train the model\n",
    "history = model.fit(\n",
    "    train_generator,\n",
    "    steps_per_epoch=train_generator.samples // train_generator.batch_size,\n",
    "    validation_data=validation_generator,\n",
    "    validation_steps=validation_generator.samples // validation_generator.batch_size,\n",
    "    epochs=20\n",
    ")"
   ]
  },
  {
   "cell_type": "markdown",
   "id": "fb13a4f8",
   "metadata": {},
   "source": [
    "Step 5: Evaluate the Model\n",
    "Evaluate the model on a test set to see how well it performs."
   ]
  },
  {
   "cell_type": "code",
   "execution_count": null,
   "id": "9c216c4e",
   "metadata": {},
   "outputs": [],
   "source": [
    "# Evaluate the model\n",
    "test_loss, test_acc = model.evaluate(validation_generator)\n",
    "print(f'Test accuracy: {test_acc}')"
   ]
  },
  {
   "cell_type": "markdown",
   "id": "ab5a6ee1",
   "metadata": {},
   "source": [
    "Putting it All Together\n",
    "Here’s the complete script:"
   ]
  },
  {
   "cell_type": "code",
   "execution_count": null,
   "id": "a309ccd9",
   "metadata": {},
   "outputs": [],
   "source": [
    "import os\n",
    "import subprocess\n",
    "import zipfile\n",
    "import glob\n",
    "import tensorflow as tf\n",
    "from tensorflow.keras.preprocessing.image import ImageDataGenerator\n",
    "from tensorflow.keras.models import Sequential\n",
    "from tensorflow.keras.layers import Conv2D, MaxPooling2D, Flatten, Dense, Dropout\n",
    "\n",
    "# Define the paths\n",
    "base_dir = './data'\n",
    "dataset_dir = os.path.join(base_dir, 'food-101')\n",
    "zip_path = os.path.join(base_dir, 'food-101.zip')\n",
    "\n",
    "# Create the base directory if it doesn't exist\n",
    "os.makedirs(base_dir, exist_ok=True)\n",
    "\n",
    "# Download the dataset using Kaggle API\n",
    "if not os.path.exists(zip_path):\n",
    "    print(\"Downloading dataset...\")\n",
    "    subprocess.run(['kaggle', 'datasets', 'download', '-d', 'dansbecker/food-101', '-p', base_dir])\n",
    "    print(\"Download complete.\")\n",
    "\n",
    "# Find the correct ZIP file (Kaggle might save it with a different name)\n",
    "zip_files = glob.glob(os.path.join(base_dir, '*.zip'))\n",
    "if not zip_files:\n",
    "    raise FileNotFoundError(\"No ZIP file found after download.\")\n",
    "zip_path = zip_files[0]\n",
    "\n",
    "# Extract the dataset if it hasn't been extracted already\n",
    "if not os.path.exists(dataset_dir):\n",
    "    print(\"Extracting dataset...\")\n",
    "    with zipfile.ZipFile(zip_path, 'r') as zip_ref:\n",
    "        zip_ref.extractall(base_dir)\n",
    "    print(\"Extraction complete.\")\n",
    "\n",
    "# Set the paths\n",
    "dataset_path = os.path.join(dataset_dir, 'images')\n",
    "\n",
    "# Initialize ImageDataGenerator for preprocessing\n",
    "datagen = ImageDataGenerator(\n",
    "    rescale=1./255,\n",
    "    validation_split=0.2\n",
    ")\n",
    "\n",
    "# Prepare the training and validation data\n",
    "train_generator = datagen.flow_from_directory(\n",
    "    dataset_path,\n",
    "    target_size=(224, 224),\n",
    "    batch_size=32,\n",
    "    class_mode='categorical',\n",
    "    subset='training'\n",
    ")\n",
    "\n",
    "validation_generator = datagen.flow_from_directory(\n",
    "    dataset_path,\n",
    "    target_size=(224, 224),\n",
    "    batch_size=32,\n",
    "    class_mode='categorical',\n",
    "    subset='validation'\n",
    ")\n",
    "\n",
    "# Define the model\n",
    "model = Sequential([\n",
    "    Conv2D(32, (3, 3), activation='relu', input_shape=(224, 224, 3)),\n",
    "    MaxPooling2D((2, 2)),\n",
    "    Conv2D(64, (3, 3), activation='relu'),\n",
    "    MaxPooling2D((2, 2)),\n",
    "    Conv2D(128, (3, 3), activation='relu'),\n",
    "    MaxPooling2D((2, 2)),\n",
    "    Flatten(),\n",
    "    Dense(512, activation='relu'),\n",
    "    Dropout(0.5),\n",
    "    Dense(101, activation='softmax')  # 101 classes for 101 types of food\n",
    "])\n",
    "\n",
    "# Compile the model\n",
    "model.compile(optimizer='adam',\n",
    "              loss='categorical_crossentropy',\n",
    "              metrics=['accuracy'])\n",
    "\n",
    "# Train the model\n",
    "history = model.fit(\n",
    "    train_generator,\n",
    "    steps_per_epoch=train_generator.samples // train_generator.batch_size,\n",
    "    validation_data=validation_generator,\n",
    "    validation_steps=validation_generator.samples // validation_generator.batch_size,\n",
    "    epochs=20\n",
    ")\n",
    "\n",
    "# Evaluate the model\n",
    "test_loss, test_acc = model.evaluate(validation_generator)\n",
    "print(f'Test accuracy: {test_acc}')\n"
   ]
  }
 ],
 "metadata": {
  "kernelspec": {
   "display_name": "Python 3 (ipykernel)",
   "language": "python",
   "name": "python3"
  },
  "language_info": {
   "codemirror_mode": {
    "name": "ipython",
    "version": 3
   },
   "file_extension": ".py",
   "mimetype": "text/x-python",
   "name": "python",
   "nbconvert_exporter": "python",
   "pygments_lexer": "ipython3",
   "version": "3.11.5"
  }
 },
 "nbformat": 4,
 "nbformat_minor": 5
}
